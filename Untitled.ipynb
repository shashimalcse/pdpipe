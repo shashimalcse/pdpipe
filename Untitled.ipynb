{
 "cells": [
  {
   "cell_type": "code",
   "execution_count": 1,
   "metadata": {},
   "outputs": [
    {
     "name": "stderr",
     "output_type": "stream",
     "text": [
      "/home/shashimal/anaconda3/lib/python3.7/site-packages/pdpipe/__init__.py:48: UserWarning: Traceback (most recent call last):\n",
      "  File \"/home/shashimal/anaconda3/lib/python3.7/site-packages/pdpipe/__init__.py\", line 42, in <module>\n",
      "    from . import sklearn_stages\n",
      "  File \"/home/shashimal/anaconda3/lib/python3.7/site-packages/pdpipe/sklearn_stages.py\", line 6, in <module>\n",
      "    from skutil.preprocessing import scaler_by_params\n",
      "ModuleNotFoundError: No module named 'skutil'\n",
      "\n",
      "  warnings.warn(tb)\n",
      "/home/shashimal/anaconda3/lib/python3.7/site-packages/pdpipe/__init__.py:50: UserWarning: pdpipe: Scikit-learn or skutil import failed. Scikit-learn-dependent pipeline stages will not be loaded.\n",
      "  \"pdpipe: Scikit-learn or skutil import failed. Scikit-learn\"\n"
     ]
    }
   ],
   "source": [
    "import pandas as pd\n",
    "import numpy as np\n",
    "import pdpipe as pdp"
   ]
  },
  {
   "cell_type": "code",
   "execution_count": 2,
   "metadata": {},
   "outputs": [],
   "source": [
    "df = pd.read_csv(\"train.csv\")"
   ]
  },
  {
   "cell_type": "code",
   "execution_count": null,
   "metadata": {},
   "outputs": [],
   "source": []
  }
 ],
 "metadata": {
  "kernelspec": {
   "display_name": "Python 3",
   "language": "python",
   "name": "python3"
  },
  "language_info": {
   "codemirror_mode": {
    "name": "ipython",
    "version": 3
   },
   "file_extension": ".py",
   "mimetype": "text/x-python",
   "name": "python",
   "nbconvert_exporter": "python",
   "pygments_lexer": "ipython3",
   "version": "3.7.3"
  }
 },
 "nbformat": 4,
 "nbformat_minor": 2
}
